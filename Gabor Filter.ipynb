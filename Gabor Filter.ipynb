{
 "cells": [
  {
   "cell_type": "code",
   "execution_count": 1,
   "metadata": {},
   "outputs": [],
   "source": [
    "import numpy as np\n",
    "import cv2\n",
    "import matplotlib.pyplot as plt"
   ]
  },
  {
   "cell_type": "code",
   "execution_count": 2,
   "metadata": {},
   "outputs": [],
   "source": [
    "ksize = 5  #Use size that makes sense to the image and fetaure size. Large may not be good. \n",
    "#On the synthetic image it is clear how ksize affects imgae (try 5 and 50)\n",
    "sigma = 3 #Large sigma on small features will fully miss the features. \n",
    "theta = 1*np.pi/4  #/4 shows horizontal 3/4 shows other horizontal. Try other contributions\n",
    "lamda = 1*np.pi /4  #1/4 works best for angled. \n",
    "gamma=0.4  #Value of 1 defines spherical. Calue close to 0 has high aspect ratio\n",
    "#Value of 1, spherical may not be ideal as it picks up features from other regions.\n",
    "phi = 0  #Phase offset. I leave it to 0. "
   ]
  },
  {
   "cell_type": "code",
   "execution_count": 7,
   "metadata": {},
   "outputs": [
    {
     "data": {
      "image/png": "[encoded data removed]",
      "text/plain": [
       "<Figure size 432x288 with 1 Axes>"
      ]
     },
     "metadata": {
      "needs_background": "light"
     },
     "output_type": "display_data"
    }
   ],
   "source": [
    "kernel = cv2.getGaborKernel((ksize, ksize), sigma, theta, lamda, gamma, phi, ktype=cv2.CV_32F)\n",
    "\n",
    "plt.imshow(kernel)\n",
    "\n",
    "\n",
    "img = cv2.imread('BlackHole.jpg')\n",
    "img = cv2.cvtColor(img, cv2.COLOR_BGR2GRAY)\n",
    "fimg = cv2.filter2D(img, cv2.CV_8UC3, kernel)\n",
    "\n",
    "kernel_resized = cv2.resize(kernel, (400, 400))                    # Resize image\n",
    "cv2.imshow('Kernel', kernel_resized)\n",
    "cv2.imshow('Original Img.', img)\n",
    "cv2.imshow('Filtered', fimg)\n",
    "cv2.waitKey(5000)\n",
    "cv2.destroyAllWindows()"
   ]
  },
  {
   "cell_type": "code",
   "execution_count": null,
   "metadata": {},
   "outputs": [],
   "source": []
  }
 ],
 "metadata": {
  "kernelspec": {
   "display_name": "Python 3",
   "language": "python",
   "name": "python3"
  },
  "language_info": {
   "codemirror_mode": {
    "name": "ipython",
    "version": 3
   },
   "file_extension": ".py",
   "mimetype": "text/x-python",
   "name": "python",
   "nbconvert_exporter": "python",
   "pygments_lexer": "ipython3",
   "version": "3.8.3"
  }
 },
 "nbformat": 4,
 "nbformat_minor": 4
}
