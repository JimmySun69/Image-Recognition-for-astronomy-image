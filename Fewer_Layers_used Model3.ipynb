{
 "cells": [
  {
   "cell_type": "code",
   "execution_count": 13,
   "metadata": {
    "colab": {
     "base_uri": "https://localhost:8080/"
    },
    "id": "lVXafpd06kx2",
    "outputId": "a27fecd6-7b6b-4948-daaa-8a1fa03802b4"
   },
   "outputs": [
    {
     "name": "stdout",
     "output_type": "stream",
     "text": [
      "Drive already mounted at /content/drive; to attempt to forcibly remount, call drive.mount(\"/content/drive\", force_remount=True).\n"
     ]
    }
   ],
   "source": [
    "from google.colab import drive\n",
    "drive.mount(\"/content/drive\")"
   ]
  },
  {
   "cell_type": "code",
   "execution_count": 14,
   "metadata": {
    "colab": {
     "base_uri": "https://localhost:8080/"
    },
    "id": "_GsI-rF06vkI",
    "outputId": "6e32efcd-08ef-401a-95d4-ca16b2752227"
   },
   "outputs": [
    {
     "name": "stdout",
     "output_type": "stream",
     "text": [
      "'image recognition.ipynb'  'Model With Greater Dataset.ipynb'   train1.zip\n",
      " ImageRec.zip\t\t   'Optimization of Layers'\t        TraingData.zip\n",
      " Model1.ipynb\t\t    Supernova.ipynb\t\t        train.zip\n"
     ]
    }
   ],
   "source": [
    "!ls \"/content/drive/My Drive/Colab Notebooks/\""
   ]
  },
  {
   "cell_type": "code",
   "execution_count": 15,
   "metadata": {
    "id": "tZDpIuuJ65Ku"
   },
   "outputs": [],
   "source": [
    "train_file = \"/content/drive/My Drive/Colab Notebooks/TraingData.zip\""
   ]
  },
  {
   "cell_type": "code",
   "execution_count": 16,
   "metadata": {
    "id": "rq_FpORd67Om"
   },
   "outputs": [],
   "source": [
    "import zipfile\n",
    "\n",
    "with zipfile.ZipFile(train_file, 'r') as z:\n",
    "    z.extractall()"
   ]
  },
  {
   "cell_type": "code",
   "execution_count": 17,
   "metadata": {
    "id": "hWcXR9Pe68yu"
   },
   "outputs": [],
   "source": [
    "import os\n",
    "import cv2\n",
    "\n",
    "def load_image(file_path):\n",
    "    return cv2.imread(file_path)\n",
    "\n",
    "def extract_label(file_name):\n",
    "    return 1 if \"Supernova\" in file_name else 0\n",
    "\n",
    "train_path = \"./TraingData/\"\n",
    "image_files = os.listdir(train_path)\n",
    "train_images = [load_image(train_path + file) for file in image_files]\n",
    "train_labels = [extract_label(file) for file in image_files]"
   ]
  },
  {
   "cell_type": "code",
   "execution_count": 18,
   "metadata": {
    "id": "RnfOkJ1b7AGO"
   },
   "outputs": [],
   "source": [
    "def preprocess_image(img, side=96):\n",
    "    min_side = min(img.shape[0], img.shape[1])\n",
    "    img = img[:min_side, :min_side]\n",
    "    img = cv2.resize(img, (side,side))\n",
    "    img = cv2.cvtColor(img, cv2.COLOR_BGR2GRAY)\n",
    "    return img / 255.0"
   ]
  },
  {
   "cell_type": "code",
   "execution_count": 19,
   "metadata": {
    "id": "m9z-3cRp7Cb-"
   },
   "outputs": [],
   "source": [
    "for i in range(len(train_images)):\n",
    "    train_images[i] = preprocess_image(train_images[i])"
   ]
  },
  {
   "cell_type": "code",
   "execution_count": 20,
   "metadata": {
    "colab": {
     "base_uri": "https://localhost:8080/"
    },
    "id": "LXf3ttgI7FKu",
    "outputId": "27b67af6-e17b-4ce5-de66-ffc4d52e0f29"
   },
   "outputs": [
    {
     "name": "stdout",
     "output_type": "stream",
     "text": [
      "(306, 96, 96, 1) (306,)\n"
     ]
    }
   ],
   "source": [
    "import numpy as np\n",
    "\n",
    "train_images = np.expand_dims(train_images, axis=-1)\n",
    "train_labels = np.array(train_labels)\n",
    "print(train_images.shape, train_labels.shape)"
   ]
  },
  {
   "cell_type": "code",
   "execution_count": 30,
   "metadata": {
    "colab": {
     "base_uri": "https://localhost:8080/"
    },
    "id": "mJ6SzPzW7Gqm",
    "outputId": "58274084-9d8a-4ae7-997e-e302e1f917dd"
   },
   "outputs": [
    {
     "name": "stdout",
     "output_type": "stream",
     "text": [
      "Model: \"sequential_3\"\n",
      "_________________________________________________________________\n",
      "Layer (type)                 Output Shape              Param #   \n",
      "=================================================================\n",
      "conv2d_3 (Conv2D)            (None, 96, 96, 32)        320       \n",
      "_________________________________________________________________\n",
      "max_pooling2d_3 (MaxPooling2 (None, 48, 48, 32)        0         \n",
      "_________________________________________________________________\n",
      "conv2d_4 (Conv2D)            (None, 48, 48, 32)        9248      \n",
      "_________________________________________________________________\n",
      "max_pooling2d_4 (MaxPooling2 (None, 24, 24, 32)        0         \n",
      "_________________________________________________________________\n",
      "conv2d_5 (Conv2D)            (None, 24, 24, 64)        18496     \n",
      "_________________________________________________________________\n",
      "max_pooling2d_5 (MaxPooling2 (None, 12, 12, 64)        0         \n",
      "_________________________________________________________________\n",
      "dropout_1 (Dropout)          (None, 12, 12, 64)        0         \n",
      "_________________________________________________________________\n",
      "flatten_1 (Flatten)          (None, 9216)              0         \n",
      "_________________________________________________________________\n",
      "dense_2 (Dense)              (None, 128)               1179776   \n",
      "_________________________________________________________________\n",
      "dense_3 (Dense)              (None, 2)                 258       \n",
      "=================================================================\n",
      "Total params: 1,208,098\n",
      "Trainable params: 1,208,098\n",
      "Non-trainable params: 0\n",
      "_________________________________________________________________\n"
     ]
    }
   ],
   "source": [
    "import tensorflow as tf\n",
    "model = tf.keras.Sequential()\n",
    "model.add(tf.keras.layers.Conv2D(32, 3, padding=\"same\", activation=\"relu\", input_shape=(96,96,1)))\n",
    "model.add(tf.keras.layers.MaxPool2D())\n",
    "\n",
    "model.add(tf.keras.layers.Conv2D(32, 3, padding=\"same\", activation=\"relu\"))\n",
    "model.add(tf.keras.layers.MaxPool2D())\n",
    "\n",
    "model.add(tf.keras.layers.Conv2D(64, 3, padding=\"same\", activation=\"relu\"))\n",
    "model.add(tf.keras.layers.MaxPool2D())\n",
    "model.add(tf.keras.layers.Dropout(0.4))\n",
    "\n",
    "model.add(tf.keras.layers.Flatten())\n",
    "model.add(tf.keras.layers.Dense(128,activation=\"relu\"))\n",
    "model.add(tf.keras.layers.Dense(2, activation=\"softmax\"))\n",
    "\n",
    "model.summary()"
   ]
  },
  {
   "cell_type": "code",
   "execution_count": 31,
   "metadata": {
    "id": "nLyJ4TGM79Sv"
   },
   "outputs": [],
   "source": [
    "opt = tf.keras.optimizers.Adam(lr=0.000001)\n",
    "model.compile(optimizer = opt , loss = tf.keras.losses.SparseCategoricalCrossentropy(from_logits=True) , metrics = ['accuracy'])"
   ]
  },
  {
   "cell_type": "code",
   "execution_count": 33,
   "metadata": {
    "colab": {
     "base_uri": "https://localhost:8080/"
    },
    "id": "X0CSzrri8poe",
    "outputId": "f3001513-078d-4bca-e65d-bb3879de3b2e"
   },
   "outputs": [
    {
     "name": "stdout",
     "output_type": "stream",
     "text": [
      "Epoch 1/10\n",
      "306/306 [==============================] - 7s 22ms/step - loss: 0.6877 - accuracy: 0.5882\n",
      "Epoch 2/10\n",
      "306/306 [==============================] - 7s 22ms/step - loss: 0.6821 - accuracy: 0.5915\n",
      "Epoch 3/10\n",
      "306/306 [==============================] - 7s 23ms/step - loss: 0.6795 - accuracy: 0.5980\n",
      "Epoch 4/10\n",
      "306/306 [==============================] - 7s 23ms/step - loss: 0.6754 - accuracy: 0.5850\n",
      "Epoch 5/10\n",
      "306/306 [==============================] - 7s 23ms/step - loss: 0.6715 - accuracy: 0.5850\n",
      "Epoch 6/10\n",
      "306/306 [==============================] - 7s 23ms/step - loss: 0.6694 - accuracy: 0.5882\n",
      "Epoch 7/10\n",
      "306/306 [==============================] - 7s 22ms/step - loss: 0.6668 - accuracy: 0.5882\n",
      "Epoch 8/10\n",
      "306/306 [==============================] - 7s 22ms/step - loss: 0.6679 - accuracy: 0.5882\n",
      "Epoch 9/10\n",
      "306/306 [==============================] - 7s 22ms/step - loss: 0.6637 - accuracy: 0.5882\n",
      "Epoch 10/10\n",
      "306/306 [==============================] - 7s 22ms/step - loss: 0.6655 - accuracy: 0.5882\n"
     ]
    },
    {
     "data": {
      "text/plain": [
       "<tensorflow.python.keras.callbacks.History at 0x7f4d1c123278>"
      ]
     },
     "execution_count": 33,
     "metadata": {
      "tags": []
     },
     "output_type": "execute_result"
    }
   ],
   "source": [
    "model.fit(train_images, train_labels, epochs=10, batch_size=1)"
   ]
  },
  {
   "cell_type": "code",
   "execution_count": null,
   "metadata": {
    "id": "g7-KAKgl9YV2"
   },
   "outputs": [],
   "source": []
  }
 ],
 "metadata": {
  "colab": {
   "collapsed_sections": [],
   "name": "Fewer Layers used",
   "provenance": []
  },
  "kernelspec": {
   "display_name": "Python 3",
   "language": "python",
   "name": "python3"
  },
  "language_info": {
   "codemirror_mode": {
    "name": "ipython",
    "version": 3
   },
   "file_extension": ".py",
   "mimetype": "text/x-python",
   "name": "python",
   "nbconvert_exporter": "python",
   "pygments_lexer": "ipython3",
   "version": "3.8.3"
  }
 },
 "nbformat": 4,
 "nbformat_minor": 1
}
